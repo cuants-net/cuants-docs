{
 "cells": [
  {
   "cell_type": "code",
   "execution_count": 5,
   "id": "023a61de",
   "metadata": {},
   "outputs": [
    {
     "name": "stdout",
     "output_type": "stream",
     "text": [
      "Media observada: 0.3714\n",
      "P-valor empírico: 0.1876\n"
     ]
    }
   ],
   "source": [
    "import numpy as np\n",
    "\n",
    "# Paso 1: Tus datos reales\n",
    "data = np.array([1.0, -0.5, 2.0, 0.3, -1.0, 1.5, -0.7])  # en porcentajes\n",
    "\n",
    "# Paso 2: Calcular la media observada de la muestra original\n",
    "media_observada = np.mean(data)\n",
    "\n",
    "# Paso 3: Centrar los datos para construir la hipótesis nula (sin efecto)\n",
    "# Esto equivale a restar la media, para que la muestra resultante tenga media cero\n",
    "datos_centrados = data - media_observada\n",
    "\n",
    "# Paso 4: Crear muchas muestras bootstrap a partir de los datos centrados\n",
    "# Vamos a guardar las medias de esas muestras en una lista\n",
    "n_boot = 10000  # Número de remuestreos\n",
    "medias_bootstrap = []\n",
    "\n",
    "for i in range(n_boot):\n",
    "    muestra = np.random.choice(datos_centrados, size=len(datos_centrados), replace=True)\n",
    "    media = np.mean(muestra)\n",
    "    medias_bootstrap.append(media)\n",
    "\n",
    "# Paso 5: Calcular el p-valor empírico\n",
    "# ¿Qué proporción de esas medias son mayores o iguales que la media observada?\n",
    "p_valor = np.mean(np.array(medias_bootstrap) >= media_observada)\n",
    "\n",
    "# Mostrar el resultado\n",
    "print(\"Media observada:\", round(media_observada, 4))\n",
    "print(\"P-valor empírico:\", round(p_valor, 4))\n",
    "\n"
   ]
  }
 ],
 "metadata": {
  "kernelspec": {
   "display_name": "Python (vscode)",
   "language": "python",
   "name": "vscode"
  },
  "language_info": {
   "codemirror_mode": {
    "name": "ipython",
    "version": 3
   },
   "file_extension": ".py",
   "mimetype": "text/x-python",
   "name": "python",
   "nbconvert_exporter": "python",
   "pygments_lexer": "ipython3",
   "version": "3.11.2"
  }
 },
 "nbformat": 4,
 "nbformat_minor": 5
}
