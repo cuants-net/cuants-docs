{
 "cells": [
  {
   "cell_type": "markdown",
   "metadata": {},
   "source": [
    "# 1.1 Variables y operaciones básicas\n",
    "\n",
    "## Introducción\n",
    "En trading solemos querer saber si un trade terminó en ganancia o pérdida. Para eso necesitamos guardar precios en **variables** y hacer operaciones simples."
   ]
  },
  {
   "cell_type": "code",
   "execution_count": null,
   "metadata": {},
   "outputs": [],
   "source": [
    "# Ejemplo aplicado: calcular retorno de un trade\n",
    "\n",
    "# Precio de apertura y cierre\n",
    "precio_apertura = 100\n",
    "precio_cierre = 105\n",
    "\n",
    "# Diferencia absoluta\n",
    "diferencia = precio_cierre - precio_apertura\n",
    "print(\"Diferencia:\", diferencia)\n",
    "\n",
    "# Retorno porcentual\n",
    "retorno = (precio_cierre - precio_apertura) / precio_apertura * 100\n",
    "print(\"Retorno %:\", retorno)\n",
    "\n",
    "# ➡ Este cálculo nos dice cuánto ganamos o perdimos en porcentaje."
   ]
  },
  {
   "cell_type": "markdown",
   "metadata": {},
   "source": [
    "## Exploración\n",
    "1. Cambiá el valor de `precio_cierre` a 95 y volvé a ejecutar la celda.\n",
    "2. ¿Qué ocurre con la diferencia y el retorno?\n",
    "3. Probá con otros valores para entender cómo cambia el resultado."
   ]
  },
  {
   "cell_type": "markdown",
   "metadata": {},
   "source": [
    "## Nota conceptual (opcional)\n",
    "En programación, una **variable** es un nombre que guarda un valor en memoria. \n",
    "Esto nos permite reutilizar datos y operar con ellos en cálculos posteriores."
   ]
  }
 ],
 "metadata": {
  "kernelspec": {
   "display_name": "Python 3",
   "language": "python",
   "name": "python3"
  },
  "language_info": {
   "name": "python",
   "version": "3.10"
  }
 },
 "nbformat": 4,
 "nbformat_minor": 5
}
