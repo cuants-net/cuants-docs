{
 "cells": [
  {
   "cell_type": "markdown",
   "id": "5ff5685d",
   "metadata": {},
   "source": [
    "# 2. Sentencias de control\n",
    "\n",
    "Hasta ahora nuestros programas ejecutaban instrucciones en secuencia, una tras otra.\n",
    "Sin embargo, en la práctica necesitamos que el código tome decisiones y repita acciones según las condiciones del entorno o los datos que analiza.\n",
    "\n",
    "Estas capacidades se agrupan bajo el nombre de sentencias de control, y permiten definir la lógica de flujo de un programa.\n",
    "\n",
    "En Python se dividen en tres grandes grupos:\n",
    "\n",
    "| Tipo                                               | Qué hace                     | Analogía                                        |\n",
    "| -------------------------------------------------- | ---------------------------- | ----------------------------------------------- |\n",
    "| **Condicionales (`if`, `elif`, `else`)**           | Elige entre caminos posibles | *“Si el precio baja, compro; si sube, espero.”* |\n",
    "| **Bucles (`for`, `while`)**                        | Repite acciones              | *“Recorro cada activo en mi watchlist.”*        |\n",
    "| **Control de flujo (`break`, `continue`, `pass`)** | Ajusta la dinámica interna   | *“Salgo del ciclo si se activa una alerta.”*    |"
   ]
  },
  {
   "cell_type": "markdown",
   "id": "97c93fb9",
   "metadata": {},
   "source": [
    "*** \n",
    "\n",
    "## 1. Estructuras condicionales (if, elif, else)\n",
    "\n",
    "\n",
    "### Forma general\n",
    "\n",
    "```python\n",
    "if condicion_1:\n",
    "    bloque_1\n",
    "elif condicion_2:\n",
    "    bloque_2\n",
    "else:\n",
    "    bloque_por_defecto\n",
    "```\n",
    "\n",
    "* Solo se ejecuta un bloque: el del primer True encontrado.\n",
    "\n",
    "* Las condiciones son expresiones booleanas: comparaciones o combinaciones de valores lógicos.\n",
    "\n",
    "\n",
    "```python\n",
    "precio = 43000\n",
    "soporte = 40000\n",
    "resistencia = 44000\n",
    "\n",
    "if precio < soporte:\n",
    "    print(\"Precio por debajo del soporte → posible compra.\")\n",
    "elif precio > resistencia:\n",
    "    print(\"Precio por encima de la resistencia → posible venta.\")\n",
    "else:\n",
    "    print(\"Precio dentro del rango → sin acción.\")\n",
    "```\n",
    "\n",
    "### Operadores lógicos\n",
    "\n",
    "| Operador          | Significado             | Ejemplo            |\n",
    "| ----------------- | ----------------------- | ------------------ |\n",
    "| `==`              | Igualdad                | `precio == 40000`  |\n",
    "| `!=`              | Diferente               | `activo != \"BTC\"`  |\n",
    "| `>` `<` `>=` `<=` | Comparaciones numéricas | `rendimiento >= 0` |\n",
    "| `and`             | Y lógico                | `x > 0 and y > 0`  |\n",
    "| `or`              | O lógico                | `x < 0 or y < 0`   |\n",
    "| `not`             | Negación                | `not en_rango`     |\n",
    "\n",
    "\n",
    "\n",
    "\n"
   ]
  }
 ],
 "metadata": {
  "language_info": {
   "name": "python"
  }
 },
 "nbformat": 4,
 "nbformat_minor": 5
}
