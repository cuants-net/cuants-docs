{
 "cells": [
  {
   "cell_type": "markdown",
   "id": "0b4a8d06",
   "metadata": {},
   "source": [
    "# Secuencias\n",
    "\n",
    "## 1. Listas\n",
    "\n",
    "### Introducción\n",
    "\n",
    "Las **listas** son secuencias ordenadas, **mutables**, y capaces de contener elementos de cualquier tipo.  \n",
    "Su constructor es `list()`, aunque lo habitual es crearlas directamente con **corchetes** `[]`.\n",
    "\n",
    "```python\n",
    "a = list([1, 2, 3])    # forma explícita\n",
    "b = [1, 2, 3]          # forma usual\n",
    "print(a, type(a))\n",
    "# [1, 2, 3] <class 'list'>\n",
    "```\n",
    "\n",
    "## Creación y acceso\n",
    "\n",
    "```python\n",
    "# Crear una lista de precios\n",
    "\n",
    "precios = [100.0, 101.5, 99.0, 102.0]\n",
    "\n",
    "# Acceder a elementos\n",
    "print(precios[0])   # primer elemento → 100.0\n",
    "print(precios[-1])  # último elemento → 102.0\n",
    "\n",
    "# Modificar un elemento\n",
    "precios[2] = 98.5\n",
    "print(precios)      # [100.0, 101.5, 98.5, 102.0]\n",
    "```\n",
    "\n",
    "## Métodos principales\n",
    "\n",
    "| Método              | Descripción                                         | Ejemplo                          |\n",
    "| ------------------- | --------------------------------------------------- | -------------------------------- |\n",
    "| `append(elem)`      | Añade un elemento al final                          | `precios.append(103.0)`          |\n",
    "| `extend(iterable)`  | Agrega todos los elementos de otro iterable         | `precios.extend([104.0, 105.5])` |\n",
    "| `insert(pos, elem)` | Inserta en una posición                             | `precios.insert(1, 99.5)`        |\n",
    "| `pop([pos])`        | Elimina y devuelve el elemento (último por defecto) | `precios.pop()`                  |\n",
    "| `remove(elem)`      | Elimina la primera ocurrencia de un valor           | `precios.remove(99.5)`           |\n",
    "| `reverse()`         | Invierte el orden **en la misma lista**             | `precios.reverse()`              |\n",
    "| `sort()`            | Ordena la lista **en el lugar**                     | `precios.sort()`                 |\n",
    "| `copy()`            | Crea una copia **superficial**                      | `nueva = precios.copy()`         |\n",
    "| `clear()`           | Borra todos los elementos                           | `precios.clear()`                |\n",
    "\n",
    "\n",
    "***\n",
    "\n",
    "## Ejemplo"
   ]
  },
  {
   "cell_type": "code",
   "execution_count": 13,
   "id": "96e27def",
   "metadata": {},
   "outputs": [
    {
     "name": "stdout",
     "output_type": "stream",
     "text": [
      "1 Precios: [100.0, 101.5, 99.0, 102.0]\n",
      "2 Extend: [100.0, 101.5, 99.0, 102.0, 103.0, 104.5]\n",
      "3 Insert: [100.0, 101.5, 100.8, 99.0, 102.0, 103.0, 104.5]\n",
      "4 Remove: [100.0, 101.5, 100.8, 102.0, 103.0, 104.5]\n",
      "5 Reverse: [104.5, 103.0, 102.0, 100.8, 101.5, 100.0]\n",
      "6 Ordenada: [100.0, 100.8, 101.5, 102.0, 103.0, 104.5]\n"
     ]
    }
   ],
   "source": [
    "# Lista inicial de precios diarios\n",
    "precios = [100.0, 101.5, 99.0]\n",
    "\n",
    "# Llega un nuevo precio → append\n",
    "precios.append(102.0)\n",
    "print(\"1 Precios:\", precios)\n",
    "\n",
    "# Se agrega una semana de precios → extend\n",
    "precios.extend([103.0, 104.5])\n",
    "print(\"2 Extend:\", precios)\n",
    "\n",
    "# Inserta un precio faltante en posición 2 → insert\n",
    "precios.insert(2, 100.8)\n",
    "print(\"3 Insert:\", precios)\n",
    "\n",
    "# Se elimina un valor erróneo → remove\n",
    "precios.remove(99.0)\n",
    "print(\"4 Remove:\", precios)\n",
    "\n",
    "# Se invierte el orden → reverse\n",
    "precios.reverse()\n",
    "print(\"5 Reverse:\", precios)\n",
    "\n",
    "# Se ordena nuevamente → sort\n",
    "precios.sort()\n",
    "print(\"6 Ordenada:\", precios)\n"
   ]
  },
  {
   "cell_type": "markdown",
   "id": "5da83dd3",
   "metadata": {},
   "source": [
    "***\n",
    "\n",
    "## Copias y mutabilidad"
   ]
  },
  {
   "cell_type": "code",
   "execution_count": 14,
   "id": "ab2b6d2c",
   "metadata": {},
   "outputs": [
    {
     "name": "stdout",
     "output_type": "stream",
     "text": [
      "a: [[1, 99], [3, 4]]\n",
      "b: [[1, 99], [3, 4]]\n",
      "a: [[1, 55], [3, 4]]\n",
      "c: [[1, 99], [3, 4]]\n"
     ]
    }
   ],
   "source": [
    "# Copia superficial\n",
    "a = [[1, 2], [3, 4]]\n",
    "b = a.copy()\n",
    "\n",
    "a[0][1] = 99\n",
    "print(\"a:\", a)\n",
    "print(\"b:\", b)\n",
    "# Ambas cambian: la copia es superficial.\n",
    "\n",
    "# Copia profunda (totalmente independiente)\n",
    "import copy\n",
    "c = copy.deepcopy(a)\n",
    "a[0][1] = 55\n",
    "print(\"a:\", a)\n",
    "print(\"c:\", c)\n"
   ]
  },
  {
   "cell_type": "markdown",
   "id": "a767214a",
   "metadata": {},
   "source": [
    "En análisis de precios, las listas son una excelente estructura para trabajar con pequeños conjuntos de datos en memoria. Pero cuando una lista crece mucho, conviene usar NumPy o Pandas, ya que están optimizados para datos numéricos.\n",
    "\n",
    "### Nota\n",
    "\n",
    "* Las listas son mutables: cualquier operación modifica el objeto original.\n",
    "\n",
    "* La función dir(list) muestra todos sus métodos disponibles.\n",
    "\n",
    "* copy() realiza una copia superficial, y copy.deepcopy() una copia total.\n",
    "\n",
    "* El tamaño de una lista crece dinámicamente, pero cada expansión genera nuevos objetos en memoria.\n",
    "\n",
    "* Al eliminar elementos (del o pop()), se libera su referencia, no necesariamente su memoria inmediata."
   ]
  },
  {
   "cell_type": "markdown",
   "id": "8ade080c",
   "metadata": {},
   "source": [
    "***\n",
    "## Tuplas\n",
    "\n",
    "### Introducción\n",
    "\n",
    "Las **tuplas** son secuencias ordenadas **inmutables**, es decir, una vez creadas **no se pueden modificar** (no permiten agregar, quitar ni reasignar elementos).  \n",
    "Se usan para **datos fijos**, configuraciones o registros que no deben cambiar durante la ejecución.\n",
    "\n",
    "```python\n",
    "# Creación de una tupla\n",
    "a = (1, 2, 3)\n",
    "print(a, type(a))\n",
    "# (1, 2, 3) <class 'tuple'>\n",
    "```\n",
    "\n",
    "A diferencia de las listas, las tuplas se escriben entre paréntesis ().\n",
    "\n",
    "### Creación y acceso\n",
    "\n",
    "```python\n",
    "# Formas de crear tuplas\n",
    "t1 = (100.0, 101.5, 99.0)\n",
    "t2 = tuple([1, 2, 3])     # usando constructor\n",
    "t3 = (5,)                 # tupla de un solo elemento → importante la coma\n",
    "\n",
    "print(t1[0])    # acceso por índice → 100.0\n",
    "print(t1[-1])   # último elemento → 99.0\n",
    "```\n",
    "\n",
    "**Importante:**\n",
    "\n",
    "Una tupla de un solo valor debe tener coma final:\n",
    "\n",
    "(5) no es tupla, es un int;\n",
    "\n",
    "(5,) sí es una tupla.\n",
    "\n",
    "\n",
    "### Operaciones básicas\n",
    "\n",
    "```python\n",
    "precios = (100.0, 101.5, 99.0, 102.0)\n",
    "\n",
    "print(len(precios))     # longitud\n",
    "print(precios[1:3])     # slicing → (101.5, 99.0)\n",
    "print(99.0 in precios)  # True\n",
    "print(precios + (103.5,))  # concatenación → nueva tupla\n",
    "```\n",
    "\n",
    "**Nota:** cualquier operación sobre una tupla devuelve una nueva tupla, nunca modifica la original.\n",
    "\n",
    "***\n",
    "\n",
    "### Ejemplo:\n",
    "\n",
    "Imaginemos que queremos guardar un registro histórico de precios, donde los valores no deben cambiar una vez definidos:\n",
    "\n",
    "```python\n",
    "# Datos fijos (precios históricos)\n",
    "historico = (100.0, 101.5, 99.0, 102.0, 103.5)\n",
    "\n",
    "# Consulta simple\n",
    "print(\"Primer precio:\", historico[0])\n",
    "print(\"Último precio:\", historico[-1])\n",
    "\n",
    "# Retorno total\n",
    "retorno = (historico[-1] / historico[0] - 1) * 100\n",
    "print(f\"Retorno acumulado: {retorno:.2f}%\")\n",
    "\n",
    "```\n",
    "En este caso, historico actúa como una estructura protegida:\n",
    "no puede ser modificada accidentalmente por otro bloque del programa.\n",
    "\n",
    "### Desempaquetado\n",
    "\n",
    "Las tuplas permiten asignar sus valores directamente a variables:\n",
    "\n",
    "```python\n",
    "ticker, precio_inicial, precio_final = ('AAPL', 100.0, 105.5)\n",
    "print(ticker, precio_final - precio_inicial)\n",
    "# AAPL 5.5\n",
    "```\n",
    "\n",
    "Esto hace a las tuplas muy útiles para devolver múltiples resultados desde funciones.\n",
    "\n",
    "***\n",
    "\n",
    "### Ejemplo\n",
    "\n",
    "```python\n",
    "def resumen_precios(precios):\n",
    "    minimo = min(precios)\n",
    "    maximo = max(precios)\n",
    "    promedio = sum(precios) / len(precios)\n",
    "    return (minimo, maximo, promedio)  # tupla como resultado\n",
    "\n",
    "valores = [100.0, 102.0, 98.5, 105.0]\n",
    "rango = resumen_precios(valores)\n",
    "\n",
    "print(rango)\n",
    "# (98.5, 105.0, 101.375)\n",
    "\n",
    "# Desempaquetado directo\n",
    "minimo, maximo, promedio = rango\n",
    "print(f\"Mín: {minimo}, Máx: {maximo}, Prom: {promedio:.2f}\")\n",
    "```\n",
    "\n",
    "**Las tuplas son ideales para:**\n",
    "\n",
    "* Guardar datos históricos o constantes.\n",
    "\n",
    "* Devolver múltiples resultados de una función.\n",
    "\n",
    "* Definir claves inmutables en estructuras como diccionarios.\n",
    "\n",
    "\n"
   ]
  },
  {
   "cell_type": "markdown",
   "id": "9cab7666",
   "metadata": {},
   "source": [
    "***\n",
    "\n",
    "## Rangos\n",
    "\n",
    "### Introducción\n",
    "\n",
    "Un **rango** es una secuencia **inmutable de números enteros**, muy utilizada para generar **series de índices** o **iteraciones**.  \n",
    "Su constructor es `range(inicio, fin, paso)`, y no crea una lista completa en memoria:  \n",
    "genera los valores **bajo demanda** (es *lazy*, eficiente).\n",
    "\n",
    "```python\n",
    "r = range(5)\n",
    "print(r)\n",
    "# range(0, 5)\n",
    "print(list(r))\n",
    "# [0, 1, 2, 3, 4]\n",
    "```\n",
    "\n",
    "## Formas de crear rangos\n",
    "\n",
    "```python\n",
    "range(stop)              # desde 0 hasta stop-1\n",
    "range(start, stop)       # desde start hasta stop-1\n",
    "range(start, stop, step) # con incremento definido\n",
    "```\n",
    "\n",
    "## Ejemplos:\n",
    "\n",
    "```python\n",
    "print(list(range(5)))        # [0, 1, 2, 3, 4]\n",
    "print(list(range(2, 7)))     # [2, 3, 4, 5, 6]\n",
    "print(list(range(10, 0, -2)))# [10, 8, 6, 4, 2]\n",
    "```\n",
    "\n",
    "## Ejemplo práctico\n",
    "\n",
    "Imaginemos que queremos simular los índices de 5 días de precios:\n",
    "\n",
    "```python\n",
    "dias = range(1, 6)\n",
    "precios = [100.0, 101.5, 99.0, 102.0, 103.5]\n",
    "\n",
    "for i in dias:\n",
    "    print(f\"Día {i}: precio = {precios[i-1]}\")\n",
    "```\n",
    "```yaml\n",
    "Día 1: precio = 100.0\n",
    "Día 2: precio = 101.5\n",
    "Día 3: precio = 99.0\n",
    "Día 4: precio = 102.0\n",
    "Día 5: precio = 103.5\n",
    "```\n",
    "\n",
    "**Ejemplo:** generar períodos o muestras\n",
    "\n",
    "```python\n",
    "# Generar cada 5 minutos en una hora (12 períodos)\n",
    "minutos = range(0, 60, 5)\n",
    "print(list(minutos))\n",
    "# [0, 5, 10, 15, 20, 25, 30, 35, 40, 45, 50, 55]\n",
    "```\n",
    "\n",
    "### Diferencia con listas\n",
    "\n",
    "```python\n",
    "rango = range(1_000_000)\n",
    "lista = list(range(1_000_000))\n",
    "\n",
    "import sys\n",
    "print(sys.getsizeof(rango))  # tamaño fijo\n",
    "print(sys.getsizeof(lista))  # mucho mayor\n",
    "```\n",
    "range no almacena todos los valores, solo sabe cómo calcular el siguiente cuando se necesita.\n",
    "\n",
    "### Ejemplo aplicado (retorno medio de varios días)\n",
    "\n",
    "```python\n",
    "precios = [100.0, 101.5, 99.0, 102.0, 103.5]\n",
    "retornos = []\n",
    "\n",
    "for i in range(1, len(precios)):\n",
    "    r = (precios[i] / precios[i-1] - 1) * 100\n",
    "    retornos.append(round(r, 2))\n",
    "\n",
    "print(\"Retornos diarios (%):\", retornos)\n",
    "# [1.5, -2.46, 3.03, 1.47]\n",
    "```\n",
    "\n",
    "### Notas\n",
    "\n",
    "* range es una secuencia numérica inmutable y eficiente en memoria.\n",
    "\n",
    "* Su principal uso es en bucles, generación de índices o creación de subperíodos regulares.\n",
    "\n",
    "* Puede convertirse fácilmente a lista (list(range(...))) cuando se necesita el contenido completo.\n",
    "\n",
    "* En análisis cuantitativo, es útil para recorrer ventanas de datos o iterar simulaciones de manera ligera."
   ]
  },
  {
   "cell_type": "markdown",
   "id": "e7296466",
   "metadata": {},
   "source": [
    "***\n",
    "\n",
    "## Slicing — Rebanado de secuencias\n",
    "\n",
    "### Introducción\n",
    "\n",
    "El **slicing** (rebanado) permite **extraer partes** de una secuencia (lista, tupla, string, range).  \n",
    "\n",
    "Su sintaxis general es:\n",
    "\n",
    "- `inicio`: índice donde comienza la selección (incluido).\n",
    "\n",
    "- `fin`: índice donde termina (excluido).\n",
    "\n",
    "- `paso`: cada cuántos elementos avanza.\n",
    "\n",
    "Todos los parámetros son **opcionales**.\n",
    "\n",
    "\n",
    "### Ejemplos básicos\n",
    "\n",
    "```python\n",
    "precios = [100.0, 101.5, 99.0, 102.0, 103.5]\n",
    "\n",
    "print(precios[1:4])   # desde índice 1 hasta 3 → [101.5, 99.0, 102.0]\n",
    "print(precios[:3])    # desde el inicio hasta el índice 2 → [100.0, 101.5, 99.0]\n",
    "print(precios[2:])    # desde el índice 2 hasta el final → [99.0, 102.0, 103.5]\n",
    "print(precios[-2:])   # últimos 2 elementos → [102.0, 103.5]\n",
    "print(precios[::-1])  # lista invertida → [103.5, 102.0, 99.0, 101.5, 100.0]\n",
    "```\n",
    "\n",
    "| Expresión | Resultado                      | Descripción        |\n",
    "| --------- | ------------------------------ | ------------------ |\n",
    "| `a[:]`    | copia completa                 | desde inicio a fin |\n",
    "| `a[:n]`   | primeros n elementos           | sin incluir `n`    |\n",
    "| `a[-n:]`  | últimos n elementos            |                    |\n",
    "| `a[i:j]`  | elementos entre i y j          | j excluido         |\n",
    "| `a[::k]`  | todos los elementos, de k en k | paso definido      |\n",
    "| `a[::-1]` | toda la secuencia al revés     | paso negativo      |\n",
    "\n",
    "\n",
    "### Slicing y mutabilidad\n",
    "\n",
    "El slicing no sólo lee, también puede modificar porciones (en listas, no en tuplas):\n",
    "\n",
    "```python\n",
    "precios = [100.0, 101.5, 99.0, 102.0]\n",
    "precios[1:3] = [200.0, 300.0]\n",
    "print(precios)\n",
    "# [100.0, 200.0, 300.0, 102.0]\n",
    "```\n",
    "\n",
    "En este caso, modificamos dos elementos en el lugar (in-place).\n",
    "Con tuplas, esto no es posible porque son inmutables.\n",
    "\n",
    "### Copias y aliasing con slicing\n",
    "\n",
    "Una copia hecha con slicing (a[:]) crea una nueva lista, no una referencia:\n",
    "\n",
    "```python\n",
    "a = [1, 2, 3]\n",
    "b = a[:]      # copia superficial\n",
    "b.append(4)\n",
    "print(\"a:\", a)  # [1, 2, 3]\n",
    "print(\"b:\", b)  # [1, 2, 3, 4]\n",
    "```\n",
    "\n",
    "### Slicing anidado (listas dentro de listas)\n",
    "\n",
    "```python\n",
    "datos = [\n",
    "    [100.0, 101.5, 99.0],\n",
    "    [102.0, 103.5, 104.0],\n",
    "    [98.0, 100.5, 102.5]\n",
    "]\n",
    "\n",
    "sub = datos[1][1:]   # desde la segunda fila, cortar los últimos dos elementos\n",
    "print(sub)            # [103.5, 104.0]\n",
    "```"
   ]
  },
  {
   "cell_type": "markdown",
   "id": "b09e22ad",
   "metadata": {},
   "source": [
    "***\n",
    "\n",
    "## Práctica integradora — Secuencias y slicing\n",
    "\n",
    "**Objetivo:** combinar el uso de listas, tuplas, rangos y slicing  \n",
    "para analizar una pequeña serie de precios y practicar acceso, mutabilidad y subperíodos.\n",
    "\n",
    "***\n",
    "\n",
    "### Paso 1 — Crear y explorar estructuras"
   ]
  },
  {
   "cell_type": "code",
   "execution_count": 15,
   "id": "524a88fa",
   "metadata": {},
   "outputs": [
    {
     "name": "stdout",
     "output_type": "stream",
     "text": [
      "Precios: [100.0, 101.5, 99.0, 102.0, 103.5, 105.0]\n",
      "Tickers: ('AAPL', 'MSFT', 'TSLA')\n",
      "Días: [1, 2, 3, 4, 5, 6]\n"
     ]
    }
   ],
   "source": [
    "# Lista mutable de precios\n",
    "precios = [100.0, 101.5, 99.0, 102.0, 103.5, 105.0]\n",
    "\n",
    "# Tupla inmutable con tickers\n",
    "tickers = ('AAPL', 'MSFT', 'TSLA')\n",
    "\n",
    "# Rango de días\n",
    "dias = range(1, len(precios) + 1)\n",
    "\n",
    "print(\"Precios:\", precios)\n",
    "print(\"Tickers:\", tickers)\n",
    "print(\"Días:\", list(dias))\n"
   ]
  },
  {
   "cell_type": "markdown",
   "id": "1e371aca",
   "metadata": {},
   "source": [
    "***\n",
    "### Paso 2 — Indexación y slicing"
   ]
  },
  {
   "cell_type": "code",
   "execution_count": 16,
   "id": "ed464f71",
   "metadata": {},
   "outputs": [
    {
     "name": "stdout",
     "output_type": "stream",
     "text": [
      "Primer precio: 100.0\n",
      "Último precio: 105.0\n",
      "Primeros 3: [100.0, 101.5, 99.0]\n",
      "Últimos 3: [102.0, 103.5, 105.0]\n",
      "Posiciones pares: [100.0, 99.0, 103.5]\n"
     ]
    }
   ],
   "source": [
    "# Acceso directo\n",
    "print(\"Primer precio:\", precios[0])\n",
    "print(\"Último precio:\", precios[-1])\n",
    "\n",
    "# Slicing\n",
    "primeros3 = precios[:3]\n",
    "ultimos3 = precios[-3:]\n",
    "pares = precios[::2]\n",
    "\n",
    "print(\"Primeros 3:\", primeros3)\n",
    "print(\"Últimos 3:\", ultimos3)\n",
    "print(\"Posiciones pares:\", pares)\n"
   ]
  },
  {
   "cell_type": "markdown",
   "id": "a7d2212d",
   "metadata": {},
   "source": [
    "### Paso 3 — Mutabilidad y copias"
   ]
  },
  {
   "cell_type": "code",
   "execution_count": 17,
   "id": "088052be",
   "metadata": {},
   "outputs": [
    {
     "name": "stdout",
     "output_type": "stream",
     "text": [
      "Original: [100.0, 101.5, 99.0, 102.0, 103.5, 105.0, 106.0]\n",
      "Alias: [100.0, 101.5, 99.0, 102.0, 103.5, 105.0, 106.0]\n",
      "Copia: [100.0, 101.5, 99.0, 102.0, 103.5, 105.0, 106.0, 108.0]\n"
     ]
    }
   ],
   "source": [
    "# Alias (referencia)\n",
    "alias = precios\n",
    "alias.append(106.0)\n",
    "\n",
    "# Copia real\n",
    "copia = precios[:]\n",
    "copia.append(108.0)\n",
    "\n",
    "print(\"Original:\", precios)\n",
    "print(\"Alias:\", alias)\n",
    "print(\"Copia:\", copia)\n"
   ]
  },
  {
   "cell_type": "markdown",
   "id": "2827aa52",
   "metadata": {},
   "source": [
    "### Paso 4 — Subperíodos con slicing y range"
   ]
  },
  {
   "cell_type": "code",
   "execution_count": 18,
   "id": "0c33e919",
   "metadata": {},
   "outputs": [
    {
     "name": "stdout",
     "output_type": "stream",
     "text": [
      "Ventana: [101.5, 99.0, 102.0, 103.5]\n",
      "Días: [2, 3, 4, 5]\n"
     ]
    }
   ],
   "source": [
    "# Tomamos una ventana de 4 días (índices 1 a 5)\n",
    "ventana = precios[1:5]\n",
    "dias_ventana = range(2, 6)\n",
    "\n",
    "print(\"Ventana:\", ventana)\n",
    "print(\"Días:\", list(dias_ventana))"
   ]
  },
  {
   "cell_type": "markdown",
   "id": "71adc6e6",
   "metadata": {},
   "source": [
    "### Paso 5 — Cálculo de retornos por subperíodos"
   ]
  },
  {
   "cell_type": "code",
   "execution_count": 19,
   "id": "4d51813c",
   "metadata": {},
   "outputs": [
    {
     "name": "stdout",
     "output_type": "stream",
     "text": [
      "Retornos diarios (%): [1.5, -2.46, 3.03, 1.47, 1.45, 0.95]\n"
     ]
    }
   ],
   "source": [
    "# Calcular retornos entre cada par consecutivo\n",
    "retornos = []\n",
    "for i in range(1, len(precios)):\n",
    "    r = (precios[i] / precios[i - 1] - 1) * 100\n",
    "    retornos.append(round(r, 2))\n",
    "\n",
    "print(\"Retornos diarios (%):\", retornos)\n"
   ]
  },
  {
   "cell_type": "markdown",
   "id": "db19e8b4",
   "metadata": {},
   "source": [
    "Paso 6 — Análisis de una ventana específica"
   ]
  },
  {
   "cell_type": "code",
   "execution_count": 20,
   "id": "62cee81e",
   "metadata": {},
   "outputs": [
    {
     "name": "stdout",
     "output_type": "stream",
     "text": [
      "Ventana [103.5, 105.0, 106.0] → Retorno: 2.42%\n"
     ]
    }
   ],
   "source": [
    "# Últimos 3 precios\n",
    "ultimos = precios[-3:]\n",
    "inicio, fin = ultimos[0], ultimos[-1]\n",
    "\n",
    "retorno = (fin / inicio - 1) * 100\n",
    "print(f\"Ventana {ultimos} → Retorno: {retorno:.2f}%\")\n"
   ]
  },
  {
   "cell_type": "markdown",
   "id": "d8dfd4b8",
   "metadata": {},
   "source": [
    "Paso 7 — Comparación con tupla (inmutable)"
   ]
  },
  {
   "cell_type": "code",
   "execution_count": 21,
   "id": "8a783111",
   "metadata": {},
   "outputs": [
    {
     "name": "stdout",
     "output_type": "stream",
     "text": [
      "(100.0, 101.5, 99.0, 102.0, 103.5, 105.0, 106.0)\n",
      "Error: 'tuple' object does not support item assignment\n"
     ]
    }
   ],
   "source": [
    "# Convertimos los precios en tupla (inmutable)\n",
    "precios_fijos = tuple(precios)\n",
    "print(precios_fijos)\n",
    "\n",
    "# Intento de modificación → error\n",
    "try:\n",
    "    precios_fijos[0] = 200.0\n",
    "except TypeError as e:\n",
    "    print(\"Error:\", e)\n"
   ]
  },
  {
   "cell_type": "markdown",
   "id": "e4438fb1",
   "metadata": {},
   "source": [
    "### Paso 8 — Mini resumen automático"
   ]
  },
  {
   "cell_type": "code",
   "execution_count": 22,
   "id": "8a24ac4b",
   "metadata": {},
   "outputs": [
    {
     "name": "stdout",
     "output_type": "stream",
     "text": [
      "Cantidad de precios: 7\n",
      "Primer precio: 100.0\n",
      "Último precio: 106.0\n",
      "Retorno total: 6.00%\n"
     ]
    }
   ],
   "source": [
    "print(\"Cantidad de precios:\", len(precios))\n",
    "print(\"Primer precio:\", precios[0])\n",
    "print(\"Último precio:\", precios[-1])\n",
    "print(f\"Retorno total: {(precios[-1]/precios[0]-1)*100:.2f}%\")"
   ]
  }
 ],
 "metadata": {
  "kernelspec": {
   "display_name": "vscode",
   "language": "python",
   "name": "python3"
  },
  "language_info": {
   "codemirror_mode": {
    "name": "ipython",
    "version": 3
   },
   "file_extension": ".py",
   "mimetype": "text/x-python",
   "name": "python",
   "nbconvert_exporter": "python",
   "pygments_lexer": "ipython3",
   "version": "3.11.2"
  }
 },
 "nbformat": 4,
 "nbformat_minor": 5
}
